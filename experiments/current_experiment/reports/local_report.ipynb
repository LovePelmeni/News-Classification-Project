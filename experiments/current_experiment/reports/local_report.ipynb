{
 "cells": [
  {
   "cell_type": "markdown",
   "metadata": {},
   "source": [
    "Local Model Interpretation using Shapley values and LIME"
   ]
  },
  {
   "cell_type": "markdown",
   "metadata": {},
   "source": [
    "Loading dataset"
   ]
  },
  {
   "cell_type": "code",
   "execution_count": null,
   "metadata": {},
   "outputs": [],
   "source": [
    "import pickle\n",
    "from lime import lime_text\n",
    "import shap\n",
    "from sklearn.base import BaseEstimator \n",
    "import pandas "
   ]
  },
  {
   "cell_type": "code",
   "execution_count": null,
   "metadata": {},
   "outputs": [],
   "source": [
    "dataset = pickle.load(open(\"../compressed_data/category_dataset.pkl\", mode='rb'))"
   ]
  },
  {
   "cell_type": "markdown",
   "metadata": {},
   "source": [
    "Using SHAP Values to visualize the impact of each individual feature \n",
    "on the model prediction"
   ]
  },
  {
   "cell_type": "code",
   "execution_count": null,
   "metadata": {},
   "outputs": [],
   "source": [
    "def visualize_shap_plot(\n",
    "    model: BaseEstimator,\n",
    "    x_data: pandas.DataFrame,\n",
    "    y_data: pandas.Series\n",
    "):\n",
    "    \"\"\"\n",
    "    Function visualizes feature importances using SHAP Values Plot \n",
    "    Args:\n",
    "        model (BaseEstimator) - model to interpret\n",
    "    \"\"\"\n",
    "    shape_estimator = shap.TreeExplainer(model=model)\n",
    "    shap_values = shape_estimator.shap_values(X=x_data, y=y_data)\n",
    "    shap.summary_plot(shap_values, x_data)\n",
    "\n",
    "# Visualizing SHAP Plot\n",
    "visualize_shap_plot()"
   ]
  },
  {
   "cell_type": "markdown",
   "metadata": {},
   "source": [
    "Using LIME for local interpretation"
   ]
  },
  {
   "cell_type": "code",
   "execution_count": null,
   "metadata": {},
   "outputs": [],
   "source": [
    "outliers = []\n",
    "\n",
    "def visualize_lime_explanations(\n",
    "    model: BaseEstimator,\n",
    "    x_data: pandas.DataFrame,\n",
    "    y_data: pandas.Series\n",
    "):\n",
    "    \"\"\"\n",
    "    Function visualizes feature importances \n",
    "    using LIME technique \n",
    "    \n",
    "    Args:\n",
    "        model (BaseEstimator) - model to interpret\n",
    "    \"\"\"\n",
    "    explainer = lime_text.LimeTextExplainer()"
   ]
  }
 ],
 "metadata": {
  "language_info": {
   "name": "python"
  },
  "orig_nbformat": 4
 },
 "nbformat": 4,
 "nbformat_minor": 2
}
