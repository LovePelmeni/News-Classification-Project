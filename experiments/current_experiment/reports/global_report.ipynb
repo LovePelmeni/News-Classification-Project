{
 "cells": [
  {
   "cell_type": "markdown",
   "metadata": {},
   "source": [
    "Global Model Interpretation Analysis"
   ]
  },
  {
   "cell_type": "code",
   "execution_count": null,
   "metadata": {},
   "outputs": [],
   "source": [
    "import pandas\n",
    "import pickle\n",
    "import matplotlib.pyplot as plt\n",
    "import seaborn as sns"
   ]
  },
  {
   "cell_type": "markdown",
   "metadata": {},
   "source": [
    "Loading ML model"
   ]
  },
  {
   "cell_type": "code",
   "execution_count": null,
   "metadata": {},
   "outputs": [],
   "source": [
    "model = pickle.load(file=open(\"../models/classifier.pkl\", mode='rb'))"
   ]
  },
  {
   "cell_type": "markdown",
   "metadata": {},
   "source": [
    "Loading Testing set"
   ]
  },
  {
   "cell_type": "code",
   "execution_count": null,
   "metadata": {},
   "outputs": [],
   "source": [
    "testing_set = pandas.read_csv(\"../data/processed_data/testing_set.csv\")"
   ]
  },
  {
   "cell_type": "markdown",
   "metadata": {},
   "source": [
    "Interpreting model global results"
   ]
  },
  {
   "cell_type": "code",
   "execution_count": null,
   "metadata": {},
   "outputs": [],
   "source": [
    "importances = pandas.DataFrame(\n",
    "    {\n",
    "        'features': testing_set.columns,\n",
    "        'importances': model._feature_importances_,\n",
    "    }\n",
    ")"
   ]
  },
  {
   "cell_type": "markdown",
   "metadata": {},
   "source": [
    "Visualizing using Seaborn bar plot"
   ]
  },
  {
   "cell_type": "code",
   "execution_count": null,
   "metadata": {},
   "outputs": [
    {
     "ename": "",
     "evalue": "",
     "output_type": "error",
     "traceback": [
      "\u001b[1;31mFailed to start Jupyter in the environment 'Python 3.11.4 ('env': venv) (~/Desktop/test_project/env/bin/python)'. \n",
      "ImportError: cannot import name 'notebookapp' from 'notebook' (/Users/kirillklimushin/Desktop/test_project/env/lib/python3.11/site-packages/notebook/__init__.py) \n",
      "View Jupyter <a href='command:jupyter.viewOutput'>log</a> for further details."
     ]
    }
   ],
   "source": [
    "sns.barplot(\n",
    "    data=importances,\n",
    "    x='features',\n",
    "    y='importances',\n",
    ")\n",
    "ax = plt.gca()\n",
    "ax.set_xticklabels(importances['features'])\n",
    "ax.grid(False)"
   ]
  }
 ],
 "metadata": {
  "interpreter": {
   "hash": "fd277c3d6aebb97abfe95dbdc652fc44e59e66d98008f95bdc0ca42cd058e69a"
  },
  "kernelspec": {
   "display_name": "Python 3.11.4 ('news_envr': venv)",
   "language": "python",
   "name": "python3"
  },
  "language_info": {
   "name": "python",
   "version": "3.11.4"
  },
  "orig_nbformat": 4
 },
 "nbformat": 4,
 "nbformat_minor": 2
}
