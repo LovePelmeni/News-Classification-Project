{
 "cells": [
  {
   "cell_type": "code",
   "execution_count": 1,
   "metadata": {},
   "outputs": [],
   "source": [
    "import sys\n",
    "sys.path.append(\"../\")\n",
    "sys.path.append(\"../../../\")"
   ]
  },
  {
   "cell_type": "code",
   "execution_count": 2,
   "metadata": {},
   "outputs": [
    {
     "name": "stdout",
     "output_type": "stream",
     "text": [
      "loading datasets..\n",
      "encoding datasets..\n",
      "saving datasets..\n"
     ]
    }
   ],
   "source": [
    "from features import build_features\n",
    "from sklearn.model_selection import train_test_split\n",
    "import pandas\n",
    "import pickle\n",
    "import os\n",
    "from text_classification import text_encoding"
   ]
  },
  {
   "cell_type": "markdown",
   "metadata": {},
   "source": [
    "Defining constants"
   ]
  },
  {
   "cell_type": "code",
   "execution_count": 3,
   "metadata": {},
   "outputs": [],
   "source": [
    "DATA_PATH = \"../data\""
   ]
  },
  {
   "cell_type": "markdown",
   "metadata": {},
   "source": [
    "Loading raw dataset"
   ]
  },
  {
   "cell_type": "code",
   "execution_count": 4,
   "metadata": {},
   "outputs": [],
   "source": [
    "applications = pickle.load(open(os.path.join(DATA_PATH, \"compressed_data/category_dataset.pkl\"), mode='rb'))"
   ]
  },
  {
   "cell_type": "code",
   "execution_count": null,
   "metadata": {},
   "outputs": [],
   "source": [
    "applications"
   ]
  },
  {
   "cell_type": "markdown",
   "metadata": {},
   "source": [
    "Splitting dataset"
   ]
  },
  {
   "cell_type": "code",
   "execution_count": null,
   "metadata": {},
   "outputs": [],
   "source": [
    "X, Y = applications.drop(columns=['category']), applications['category']\n",
    "\n",
    "x_train, x_test, y_train, y_test = train_test_split(X, Y, test_size=0.3)\n",
    "x_test, x_validation, y_test, y_validation = train_test_split(x_train, y_train, test_size=0.4)\n",
    "\n",
    "training_set = pandas.concat([x_train, y_train], axis=1)\n",
    "validation_set = pandas.concat([x_validation, y_validation], axis=1)\n",
    "testing_set = pandas.concat([x_test, y_test], axis=1)"
   ]
  },
  {
   "cell_type": "markdown",
   "metadata": {},
   "source": [
    "Detecting anomalies"
   ]
  },
  {
   "cell_type": "code",
   "execution_count": null,
   "metadata": {},
   "outputs": [],
   "source": [
    "training_set.isna().sum()"
   ]
  },
  {
   "cell_type": "code",
   "execution_count": null,
   "metadata": {},
   "outputs": [],
   "source": [
    "validation_set.isna().sum()"
   ]
  },
  {
   "cell_type": "code",
   "execution_count": null,
   "metadata": {},
   "outputs": [],
   "source": [
    "testing_set.isna().sum()"
   ]
  },
  {
   "cell_type": "markdown",
   "metadata": {},
   "source": [
    "Building Features"
   ]
  },
  {
   "cell_type": "code",
   "execution_count": null,
   "metadata": {},
   "outputs": [],
   "source": [
    "training_set = build_features.build_features(training_set)\n",
    "validation_set = build_features.build_features(validation_set)\n",
    "testing_set = build_features.build_features(testing_set)"
   ]
  },
  {
   "cell_type": "markdown",
   "metadata": {},
   "source": [
    "Encoding training set using TF IDF Vectors"
   ]
  },
  {
   "cell_type": "code",
   "execution_count": null,
   "metadata": {},
   "outputs": [],
   "source": [
    "training_categories = training_set['category'].unique()\n",
    "encoder = text_encoding.TFIDFVectorizedDataset(text_data=training_set)\n",
    "\n",
    "for category in training_categories:\n",
    "    encoder.encode_categorical_documents(category=category)\n",
    "training_set = encoder.get_dataframe()"
   ]
  },
  {
   "cell_type": "markdown",
   "metadata": {},
   "source": [
    "Encoding testing set using TF/IDF Vectors"
   ]
  },
  {
   "cell_type": "code",
   "execution_count": null,
   "metadata": {},
   "outputs": [],
   "source": [
    "testing_categories = testing_set['category'].unique()\n",
    "encoder = text_encoding.TFIDFVectorizedDataset(text_data=testing_set)\n",
    "\n",
    "for category in testing_categories:\n",
    "    encoder.encode_categorical_documents(category=category)\n",
    "testing_set = encoder.get_dataframe()"
   ]
  },
  {
   "cell_type": "markdown",
   "metadata": {},
   "source": [
    "Encoding validation set using TF/IDF Vectors"
   ]
  },
  {
   "cell_type": "code",
   "execution_count": null,
   "metadata": {},
   "outputs": [],
   "source": [
    "validation_categories = validation_set['category'].unique()\n",
    "encoder = text_encoding.TFIDFVectorizedDataset(text_data=validation_set)\n",
    "\n",
    "for category in testing_categories:\n",
    "    encoder.encode_categorical_documents(category=category)\n",
    "testing_set = encoder.get_dataframe()"
   ]
  },
  {
   "cell_type": "markdown",
   "metadata": {},
   "source": [
    "Saving datasets"
   ]
  },
  {
   "cell_type": "code",
   "execution_count": null,
   "metadata": {},
   "outputs": [],
   "source": [
    "training_set.to_csv(os.path.join(DATA_PATH, 'processed_data/training_set.csv'))\n",
    "validation_set.to_csv(os.path.join(DATA_PATH, 'processed_data/validation_set.csv'))\n",
    "testing_set.to_csv(os.path.join(DATA_PATH, 'processed_data/testing_set.csv'))"
   ]
  }
 ],
 "metadata": {
  "kernelspec": {
   "display_name": "Python 3 (ipykernel)",
   "language": "python",
   "name": "python3"
  },
  "language_info": {
   "codemirror_mode": {
    "name": "ipython",
    "version": 3
   },
   "file_extension": ".py",
   "mimetype": "text/x-python",
   "name": "python",
   "nbconvert_exporter": "python",
   "pygments_lexer": "ipython3",
   "version": "3.11.4"
  }
 },
 "nbformat": 4,
 "nbformat_minor": 4
}
