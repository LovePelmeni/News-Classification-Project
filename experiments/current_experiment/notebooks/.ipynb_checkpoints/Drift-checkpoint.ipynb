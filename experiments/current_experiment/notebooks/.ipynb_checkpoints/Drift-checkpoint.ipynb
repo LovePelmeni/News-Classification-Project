{
 "cells": [
  {
   "cell_type": "code",
   "execution_count": null,
   "metadata": {},
   "outputs": [
    {
     "ename": "",
     "evalue": "",
     "output_type": "error",
     "traceback": [
      "\u001b[1;31mFailed to start Jupyter in the environment 'Python 3.10.9 ('env': venv) (~/Desktop/test_project/env/bin/python)'. \n",
      "ImportError: cannot import name 'notebookapp' from 'notebook' (/Users/kirillklimushin/Desktop/test_project/env/lib/python3.10/site-packages/notebook/__init__.py) \n",
      "View Jupyter <a href='command:jupyter.viewOutput'>log</a> for further details."
     ]
    }
   ],
   "source": [
    "import matplotlib.pyplot as plt \n",
    "import pandas\n",
    "from ....src.drift import detection\n",
    "from ..compress_dataset import compress_dataset\n",
    "import pickle"
   ]
  },
  {
   "cell_type": "code",
   "execution_count": null,
   "metadata": {},
   "outputs": [],
   "source": [
    "%pdb on\n",
    "%load_ext line_profiler \n",
    "%load_ext memory_profiler"
   ]
  },
  {
   "cell_type": "markdown",
   "metadata": {},
   "source": [
    "Compressing Dataset"
   ]
  },
  {
   "cell_type": "code",
   "execution_count": null,
   "metadata": {},
   "outputs": [],
   "source": [
    "%run compress_dataset()"
   ]
  },
  {
   "cell_type": "markdown",
   "metadata": {},
   "source": [
    "Defining constant values"
   ]
  },
  {
   "cell_type": "code",
   "execution_count": null,
   "metadata": {},
   "outputs": [],
   "source": [
    "PREVIOUS_EXPERIMENT_NUMBER = 1\n",
    "NEW_DATA_URL = \"../data/compressed_data/category_dataset.pkl\"\n",
    "OLD_DATA_URL = \"../../experiments/experiment_%s/data/compressed_data/category_dataset.pkl\" % str(PREVIOUS_EXPERIMENT_NUMBER)"
   ]
  },
  {
   "cell_type": "markdown",
   "metadata": {},
   "source": [
    "Loading dataset"
   ]
  },
  {
   "cell_type": "code",
   "execution_count": null,
   "metadata": {},
   "outputs": [],
   "source": [
    "new_news_applications = pickle.load(open(NEW_DATA_URL, mode='rb'))\n",
    "old_news_applications = pickle.load(open(OLD_DATA_URL, mode='rb'))"
   ]
  },
  {
   "cell_type": "markdown",
   "metadata": {},
   "source": [
    "Calculating statistics"
   ]
  },
  {
   "cell_type": "code",
   "execution_count": null,
   "metadata": {},
   "outputs": [],
   "source": [
    "stat_summary = detection.compare_datasets(\n",
    "    old_data=old_news_applications,\n",
    "    new_data=new_news_applications\n",
    ")"
   ]
  },
  {
   "cell_type": "markdown",
   "metadata": {},
   "source": [
    "Checking results"
   ]
  },
  {
   "cell_type": "code",
   "execution_count": null,
   "metadata": {},
   "outputs": [],
   "source": [
    "stat_summary"
   ]
  },
  {
   "cell_type": "markdown",
   "metadata": {},
   "source": [
    "Comparing numerical distributions"
   ]
  },
  {
   "cell_type": "code",
   "execution_count": null,
   "metadata": {},
   "outputs": [],
   "source": [
    "def compare_distributions(old_dataset: pandas.DataFrame, new_dataset: pandas.DataFrame):\n",
    "    \"\"\"\n",
    "    Function plots numerical distributions of old and new data\n",
    "    using matplotlib library\n",
    "\n",
    "    Args:\n",
    "        old_dataset (pandas.DataFrame) old version of the original dataset\n",
    "        new_dataset (pandas.DataFrame) new version of the original dataset\n",
    "    \"\"\"\n",
    "\n",
    "    _, axs = plt.subplots(len(new_dataset.columns), 2)\n",
    "\n",
    "    for idx, feature in enumerate(new_dataset.columns):\n",
    "        \n",
    "        axs[idx, 0].histplot(data=old_dataset[feature], marker='o')\n",
    "        axs[idx, 0].set_title(\"Old \" + feature + \" Distribution\")\n",
    "\n",
    "        axs[idx, 1].histplot(data=new_dataset[feature], marker='o')\n",
    "        axs[idx, 1].set_title(\"New \" + feature + \" Distribution\")\n",
    "\n",
    "    plt.title(\"Numerical Data Distributions\")\n",
    "    plt.show()\n",
    "\n",
    "numerical_features = new_news_applications.select_dtypes(include='number').columns\n",
    "\n",
    "# Visualizing distributions\n",
    "\n",
    "compare_distributions(\n",
    "    old_dataset=old_news_applications[numerical_features],\n",
    "    new_dataset=new_news_applications[numerical_features]\n",
    ")\n"
   ]
  }
 ],
 "metadata": {
  "interpreter": {
   "hash": "9f9761ccd99487507adff2caa7224e49501feae7215b3c268258fd1eb7c7cb37"
  },
  "kernelspec": {
   "display_name": "Python 3.10.9 ('news_env': venv)",
   "language": "python",
   "name": "python3"
  },
  "language_info": {
   "name": "python",
   "version": "3.10.9"
  },
  "orig_nbformat": 4
 },
 "nbformat": 4,
 "nbformat_minor": 2
}
