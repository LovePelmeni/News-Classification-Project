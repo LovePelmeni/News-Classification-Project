{
 "cells": [
  {
   "cell_type": "code",
   "execution_count": null,
   "metadata": {},
   "outputs": [],
   "source": [
    "import matplotlib.pyplot as plt \n",
    "import pandas\n",
    "from ....src.drift import detection"
   ]
  },
  {
   "cell_type": "code",
   "execution_count": null,
   "metadata": {},
   "outputs": [],
   "source": [
    "%pdb on\n",
    "%load_ext line_profiler \n",
    "%load_ext memory_profiler"
   ]
  },
  {
   "cell_type": "markdown",
   "metadata": {},
   "source": [
    "Defining constant values"
   ]
  },
  {
   "cell_type": "code",
   "execution_count": null,
   "metadata": {},
   "outputs": [],
   "source": [
    "PREVIOUS_EXPERIMENT_NUMBER = 1\n",
    "NEW_DATA_URL = \"../data/raw_data/category_dataset.json\"\n",
    "OLD_DATA_URL = \"../../experiments/experiment_%s/data/raw_data/category_dataset.json\" % str(PREVIOUS_EXPERIMENT_NUMBER)"
   ]
  },
  {
   "cell_type": "markdown",
   "metadata": {},
   "source": [
    "Loading dataset"
   ]
  },
  {
   "cell_type": "code",
   "execution_count": null,
   "metadata": {},
   "outputs": [],
   "source": [
    "new_news_applications = pandas.read_json(NEW_DATA_URL)\n",
    "old_news_applications = pandas.read_json(OLD_DATA_URL)"
   ]
  },
  {
   "cell_type": "markdown",
   "metadata": {},
   "source": [
    "Calculating statistics"
   ]
  },
  {
   "cell_type": "code",
   "execution_count": null,
   "metadata": {},
   "outputs": [],
   "source": [
    "stat_summary = detection.compare_datasets(\n",
    "    old_data=old_news_applications,\n",
    "    new_data=new_news_applications\n",
    ")"
   ]
  },
  {
   "cell_type": "markdown",
   "metadata": {},
   "source": [
    "Checking results"
   ]
  },
  {
   "cell_type": "code",
   "execution_count": null,
   "metadata": {},
   "outputs": [],
   "source": [
    "stat_summary"
   ]
  },
  {
   "cell_type": "markdown",
   "metadata": {},
   "source": [
    "Comparing numerical distributions"
   ]
  },
  {
   "cell_type": "code",
   "execution_count": null,
   "metadata": {},
   "outputs": [],
   "source": [
    "def compare_distributions(old_dataset: pandas.DataFrame, new_dataset: pandas.DataFrame):\n",
    "    \"\"\"\n",
    "    Function plots numerical distributions of old and new data\n",
    "    using matplotlib library\n",
    "\n",
    "    Args:\n",
    "        old_dataset (pandas.DataFrame) old version of the original dataset\n",
    "        new_dataset (pandas.DataFrame) new version of the original dataset\n",
    "    \"\"\"\n",
    "\n",
    "    _, axs = plt.subplots(len(new_dataset.columns), 2)\n",
    "\n",
    "    for idx, feature in enumerate(new_dataset.columns):\n",
    "        \n",
    "        axs[idx, 0].histplot(data=old_dataset[feature], marker='o')\n",
    "        axs[idx, 0].set_title(\"Old \" + feature + \" Distribution\")\n",
    "\n",
    "        axs[idx, 1].histplot(data=new_dataset[feature], marker='o')\n",
    "        axs[idx, 1].set_title(\"New \" + feature + \" Distribution\")\n",
    "\n",
    "    plt.title(\"Numerical Data Distributions\")\n",
    "    plt.show()\n",
    "\n",
    "numerical_features = new_news_applications.select_dtypes(include='number').columns\n",
    "\n",
    "# Visualizing distributions\n",
    "\n",
    "compare_distributions(\n",
    "    old_dataset=old_news_applications[numerical_features],\n",
    "    new_dataset=new_news_applications[numerical_features]\n",
    ")\n"
   ]
  }
 ],
 "metadata": {
  "language_info": {
   "name": "python"
  },
  "orig_nbformat": 4
 },
 "nbformat": 4,
 "nbformat_minor": 2
}
