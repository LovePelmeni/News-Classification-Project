{
 "cells": [
  {
   "cell_type": "code",
   "execution_count": null,
   "metadata": {},
   "outputs": [
    {
     "ename": "",
     "evalue": "",
     "output_type": "error",
     "traceback": [
      "\u001b[1;31mFailed to start Jupyter in the environment 'Python 3.10.9 ('env': venv) (~/Desktop/test_project/env/bin/python)'. \n",
      "ImportError: cannot import name 'notebookapp' from 'notebook' (/Users/kirillklimushin/Desktop/test_project/env/lib/python3.10/site-packages/notebook/__init__.py) \n",
      "View Jupyter <a href='command:jupyter.viewOutput'>log</a> for further details."
     ]
    }
   ],
   "source": [
    "import pandas \n",
    "import numpy\n",
    "import sklearn \n",
    "import matplotlib.pyplot as plt \n",
    "import seaborn as sns"
   ]
  },
  {
   "cell_type": "code",
   "execution_count": null,
   "metadata": {},
   "outputs": [],
   "source": [
    "%xdmode Verbose \n",
    "%load_ext line_profiler \n",
    "%load_ext memory_profiler"
   ]
  }
 ],
 "metadata": {
  "interpreter": {
   "hash": "9f9761ccd99487507adff2caa7224e49501feae7215b3c268258fd1eb7c7cb37"
  },
  "kernelspec": {
   "display_name": "Python 3.10.9 ('news_env': venv)",
   "language": "python",
   "name": "python3"
  },
  "language_info": {
   "name": "python",
   "version": "3.10.9"
  },
  "orig_nbformat": 4
 },
 "nbformat": 4,
 "nbformat_minor": 2
}
